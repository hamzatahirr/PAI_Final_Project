{
 "cells": [
  {
   "metadata": {},
   "cell_type": "markdown",
   "source": "**Ann Classification**\n",
   "id": "8a77807f92f26ee"
  },
  {
   "metadata": {},
   "cell_type": "code",
   "source": [
    "from sklearn.calibration import LabelEncoder\n",
    "import torch\n",
    "import torch.nn as nn\n",
    "import pandas as pd\n",
    "from sklearn.model_selection import train_test_split\n",
    "from sklearn.preprocessing import StandardScaler\n",
    "from sklearn.metrics import accuracy_score, recall_score, precision_score, f1_score, confusion_matrix\n",
    "from torch.utils.data import DataLoader, TensorDataset\n"
   ],
   "id": "fbc121e30a2defb3",
   "outputs": [],
   "execution_count": null
  },
  {
   "metadata": {},
   "cell_type": "code",
   "source": [
    "data = pd.read_csv(\"loan_data.csv\")\n",
    "targets = data['loan_status']\n",
    "\n",
    "data.drop('loan_status', axis=1, inplace=True)"
   ],
   "id": "1dd76a7256f6ba92",
   "outputs": [],
   "execution_count": null
  },
  {
   "metadata": {},
   "cell_type": "code",
   "source": [
    "encoder = LabelEncoder()\n",
    "data[\"person_gender\"] = encoder.fit_transform(data['person_gender'])\n",
    "data[\"person_education\"] = encoder.fit_transform(data['person_education'])\n",
    "data[\"person_home_ownership\"] = encoder.fit_transform(data['person_home_ownership'])\n",
    "data[\"loan_intent\"] = encoder.fit_transform(data['loan_intent'])\n",
    "data['previous_loan_defaults_on_file'] = encoder.fit_transform(data['previous_loan_defaults_on_file'])"
   ],
   "id": "dc0417f7b2096c1b",
   "outputs": [],
   "execution_count": null
  },
  {
   "metadata": {},
   "cell_type": "code",
   "source": [
    "scaler = StandardScaler()\n",
    "data = scaler.fit_transform(data)\n",
    "from imblearn.over_sampling import RandomOverSampler\n",
    "ros = RandomOverSampler(random_state=42)\n",
    "data_balanced, targets_balanced = ros.fit_resample(data, targets)\n",
    "\n"
   ],
   "id": "1ef66411751dd4f7",
   "outputs": [],
   "execution_count": null
  },
  {
   "metadata": {},
   "cell_type": "code",
   "source": [
    "X_train, X_test, Y_train, Y_test = train_test_split(data_balanced, targets_balanced, test_size=0.2, random_state=42)\n",
    "X_train, X_validation, Y_train, Y_validation = train_test_split(X_train, Y_train, test_size=0.2, random_state=42)\n",
    "X_train = torch.FloatTensor(X_train)\n",
    "X_test = torch.FloatTensor(X_test)\n",
    "X_validation = torch.FloatTensor(X_validation)\n",
    "Y_train = torch.LongTensor(Y_train.values)\n",
    "Y_validation = torch.LongTensor(Y_validation.values)\n",
    "Y_test = torch.LongTensor(Y_test.values)"
   ],
   "id": "dd01e9a443cc5864",
   "outputs": [],
   "execution_count": null
  },
  {
   "metadata": {},
   "cell_type": "code",
   "source": [
    "class Classification(nn.Module):\n",
    "    def __init__(self, input_dim, hidden1, hidden2, hidden3, output_dim):\n",
    "        super(Classification, self).__init__()\n",
    "        self.W1 = nn.Parameter(torch.randn(input_dim, hidden1) * 0.01)\n",
    "        self.b1 = nn.Parameter(torch.zeros(hidden1))\n",
    "        self.W2 = nn.Parameter(torch.randn(hidden1, hidden2) * 0.01)\n",
    "        self.b2 = nn.Parameter(torch.zeros(hidden2))\n",
    "        self.W3 = nn.Parameter(torch.randn(hidden2, hidden3) * 0.01)\n",
    "        self.b3 = nn.Parameter(torch.zeros(hidden3))\n",
    "        self.W_out = nn.Parameter(torch.randn(hidden3, output_dim) * 0.01)\n",
    "        self.b_out = nn.Parameter(torch.zeros(output_dim))\n",
    "        self.relu = nn.ReLU()\n",
    "        self.sigmoid = nn.Sigmoid()\n",
    "\n",
    "    def forward(self, X):\n",
    "        x = self.relu(torch.mm(X, self.W1) + self.b1)\n",
    "        x = self.relu(torch.mm(x, self.W2) + self.b2)\n",
    "        x = self.relu(torch.mm(x, self.W3) + self.b3)\n",
    "        x = self.sigmoid(torch.mm(x, self.W_out) + self.b_out)\n",
    "        return x"
   ],
   "id": "9f7ec1ecc8208d92",
   "outputs": [],
   "execution_count": null
  },
  {
   "metadata": {},
   "cell_type": "code",
   "source": [
    "output_dim = len(targets.unique())\n",
    "input_dim = X_train.shape[1]\n",
    "hidden1 = 10\n",
    "hidden2 = 19\n",
    "hidden3 = 20"
   ],
   "id": "72a4a0ad7ed29974",
   "outputs": [],
   "execution_count": null
  },
  {
   "metadata": {},
   "cell_type": "code",
   "source": [
    "model = Classification(input_dim, hidden1, hidden2, hidden3, output_dim)\n",
    "\n",
    "criterion = nn.CrossEntropyLoss()\n",
    "learning_rate = 0.01"
   ],
   "id": "2392c0db6ba1ff73",
   "outputs": [],
   "execution_count": null
  },
  {
   "metadata": {},
   "cell_type": "code",
   "source": [
    "# %%\n",
    "batch_size=32\n",
    "epochs = 30\n",
    "optimizer = torch.optim.Adam(model.parameters(), lr=learning_rate)\n",
    "\n",
    "val_losses = []\n",
    "accuracies = []\n",
    "train_losses = []\n",
    "train_data = TensorDataset(X_train, Y_train)\n",
    "train_loader = DataLoader(train_data, batch_size=batch_size, shuffle=True)\n",
    "\n",
    "val_data = TensorDataset(X_validation, Y_validation)\n",
    "val_loader = DataLoader(val_data, batch_size=batch_size, shuffle=False)\n",
    "\n",
    "# Define the training function\n",
    "def train_model(epochs):\n",
    "    for epoch in range(epochs):\n",
    "        model.train()\n",
    "        batch_loss = 0\n",
    "        correct = 0\n",
    "        total = 0\n",
    "        for x_batch, y_batch in train_loader:\n",
    "            yhat = model(x_batch)\n",
    "            loss = criterion(yhat, y_batch)\n",
    "            optimizer.zero_grad()\n",
    "            loss.backward()\n",
    "            optimizer.step()\n",
    "            batch_loss += loss.item()\n",
    "            _, predicted = torch.max(yhat, 1)\n",
    "            correct += (predicted == y_batch).sum().item()\n",
    "            total += y_batch.size(0)\n",
    "        train_loss = batch_loss / len(train_loader)\n",
    "        train_losses.append(train_loss)\n",
    "        accuracy = correct / total\n",
    "        accuracies.append(accuracy)\n",
    "        model.eval()\n",
    "        val_loss = 0\n",
    "        val_correct = 0\n",
    "        val_total = 0\n",
    "        with torch.no_grad():\n",
    "            for x_batch, y_batch in val_loader:\n",
    "                yhat = model(x_batch)\n",
    "                loss = criterion(yhat, y_batch)\n",
    "                val_loss += loss.item()  # Accumulate validation loss\n",
    "                _, predicted = torch.max(yhat, 1)\n",
    "                val_correct += (predicted == y_batch).sum().item()\n",
    "                val_total += y_batch.size(0)\n",
    "\n",
    "        val_loss /= len(val_loader)  # Average validation loss\n",
    "        val_losses.append(val_loss)\n",
    "        val_accuracy = val_correct / val_total  # Validation accuracy\n",
    "\n",
    "        # Print epoch progress\n",
    "        print(f\"Epoch {epoch + 1}/{epochs}:\")\n",
    "        print(f\"    Training Loss: {train_loss:.4f}, Accuracy: {accuracy:.4f}\")\n",
    "        print(f\"    Validation Loss: {val_loss:.4f}, Accuracy: {val_accuracy:.4f}\")\n",
    "\n",
    "\n",
    "train_model(epochs)\n",
    "\n"
   ],
   "id": "94321a46cf9657f1",
   "outputs": [],
   "execution_count": null
  },
  {
   "metadata": {},
   "cell_type": "code",
   "source": [
    "model.eval()\n",
    "with torch.no_grad():\n",
    "    logits = model(X_test)\n",
    "    predicted_classes = torch.argmax(logits, dim=1)\n",
    "\n",
    "    # Convert PyTorch tensors to NumPy arrays\n",
    "    predicted_classes_np = predicted_classes.cpu().numpy()  # Ensure it's on CPU\n",
    "    Y_test_np = Y_test.cpu().numpy()  # Convert Y_test to NumPy (if it's a tensor)\n",
    "\n",
    "    # Compute metrics\n",
    "    print(\"F1 Score:\", f1_score(Y_test_np, predicted_classes_np, average='weighted'))\n",
    "    print(\"Recall Score:\", recall_score(Y_test_np, predicted_classes_np, average='weighted'))\n",
    "    print(\"Precision Score:\", precision_score(Y_test_np, predicted_classes_np, average='weighted'))\n",
    "    print(\"Confusion Matrix:\\n\", confusion_matrix(Y_test_np, predicted_classes_np))"
   ],
   "id": "31dffaf97a7557ed",
   "outputs": [],
   "execution_count": null
  },
  {
   "metadata": {},
   "cell_type": "code",
   "source": [
    "import matplotlib.pyplot as plt\n",
    "loss_values = [l for l in train_losses]\n",
    "plt.figure(figsize=(20, 20))\n",
    "plt.title(\"Loss With Respect to Iteration\")\n",
    "plt.plot(range(len(loss_values)), loss_values)\n",
    "plt.xlabel('Epochs')\n",
    "plt.ylabel('Loss')\n",
    "plt.show()"
   ],
   "id": "3240932cdf2bd323",
   "outputs": [],
   "execution_count": null
  },
  {
   "metadata": {},
   "cell_type": "code",
   "source": [
    "import matplotlib.pyplot as plt\n",
    "\n",
    "plt.figure(figsize=(10, 6))\n",
    "plt.plot(range(len(train_losses)), train_losses, label='Training Loss', color='blue')\n",
    "plt.plot(range(len(train_losses)), val_losses, label='Validation Loss', color='orange')\n",
    "# Add labels and title\n",
    "plt.xlabel('Epochs')\n",
    "plt.ylabel('Loss ')\n",
    "plt.title('Training & Validation Loss ')\n",
    "plt.legend()\n",
    "plt.grid(True)\n",
    "\n",
    "plt.tight_layout()\n",
    "plt.show()\n"
   ],
   "id": "140200bbd66bfde0",
   "outputs": [],
   "execution_count": null
  }
 ],
 "metadata": {
  "kernelspec": {
   "display_name": "Python 3",
   "language": "python",
   "name": "python3"
  },
  "language_info": {
   "codemirror_mode": {
    "name": "ipython",
    "version": 2
   },
   "file_extension": ".py",
   "mimetype": "text/x-python",
   "name": "python",
   "nbconvert_exporter": "python",
   "pygments_lexer": "ipython2",
   "version": "2.7.6"
  }
 },
 "nbformat": 4,
 "nbformat_minor": 5
}
